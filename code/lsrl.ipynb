{
 "cells": [
  {
   "cell_type": "markdown",
   "id": "7a357dac",
   "metadata": {},
   "source": [
    "# Import statements + data import\n",
    "- Numpy for linear algebra\n",
    "- Pandas for dataset manips\n",
    "- "
   ]
  },
  {
   "cell_type": "code",
   "execution_count": 1,
   "id": "5ae80aee",
   "metadata": {},
   "outputs": [],
   "source": [
    "import numpy as np\n",
    "import pandas as pd\n",
    "from time import perf_counter\n",
    "import scipy.linalg as la"
   ]
  },
  {
   "cell_type": "code",
   "execution_count": 2,
   "id": "aa63a214",
   "metadata": {},
   "outputs": [],
   "source": [
    "filename = \"Matrix_Data_Export.csv\"\n",
    "data_set = pd.read_csv(filename)"
   ]
  },
  {
   "cell_type": "markdown",
   "id": "8ad4d7d5",
   "metadata": {},
   "source": [
    "## Matrix + Process Setup:\n",
    "\n",
    "- `interaction_constant(A,i,j)`: calculate our interaction constant and update matrix `M`\n",
    "\n",
    "    - Inputs:\n",
    "        - `M`: Matrix for which to update interaction constant at location `(i,j)`\n",
    "        - `i,j`: Integers that denote our parameters to calculate the interaction for; `i` is independent, `j` is dependent\n",
    "    - Outputs:\n",
    "        - Returns our LSRL vector $[\\beta_0, \\beta_1]^T$ where $y = \\beta_0 + \\beta_1 x$\n",
    "        - non-pure function (side effects on `M`)\n",
    "    - Notes:\n",
    "\n",
    "#### Parameters of interest -> Pandas Labels:\n",
    "\n",
    "1. Relative Humidity ->  RH(%)\n",
    "2. Temperature -> T(degC)\n",
    "3. Light VOCs -> LightVOC(ADU)\n",
    "4. Heavy VOCs -> HeavyVOC(ADU) \n",
    "5. OZONE -> Ozone(ADU)\n",
    "6. CO -> CO(ADU)\n",
    "7. CO_2 -> CO2(ADU)\n",
    "8. Elevation -> Elevation(ft)\n",
    "9. Distance from nearest highway -> Distance From Road (miles)"
   ]
  },
  {
   "cell_type": "code",
   "execution_count": 3,
   "id": "5bb09fbf",
   "metadata": {},
   "outputs": [],
   "source": [
    "parameters = ['RH(%)', 'T(degC)', 'LightVOC(ADU)', 'HeavyVOC(ADC)', 'Ozone(ADU)', 'CO(ADU)', 'CO2(ADU)', 'Elevation(ft)', 'Distance From Road (miles)']\n",
    "\n",
    "def interaction_constant(M, i,j):\n",
    "    x = np.array(data_set[parameters[i]])\n",
    "    y = np.array(data_set[parameters[j]])\n",
    "    b = y\n",
    "    A = [[np.float64(1.0), x[k]] for k in range(len(x))]\n",
    "    Q, R = np.linalg.qr(A)\n",
    "    Q_t = np.linalg.matrix_transpose(Q)\n",
    "    R_inv = np.linalg.inv(R)\n",
    "    x = np.matmul(np.matmul(R_inv, Q_t), b)\n",
    "    M[i][j] = x[1]\n",
    "    # M[j][i] = x[1]\n",
    "    return x"
   ]
  },
  {
   "cell_type": "markdown",
   "id": "53ee459b",
   "metadata": {},
   "source": [
    "## Interaction Matrix"
   ]
  },
  {
   "cell_type": "code",
   "execution_count": 4,
   "id": "69f10dbb",
   "metadata": {},
   "outputs": [],
   "source": [
    "interaction_matrix = np.identity(10) \n",
    "row_labels = parameters + ['Row sum']\n",
    "col_labels = parameters + ['Col sum']\n",
    "\n",
    "for i in range(9):\n",
    "    for j in range(9):\n",
    "        interaction_constant(interaction_matrix, i,j)\n",
    "\n",
    "for i in range(10):\n",
    "    interaction_matrix[9][i] = sum(interaction_matrix[:,i])\n",
    "    interaction_matrix[i][9] = sum(interaction_matrix[i])\n",
    "            \n",
    "df = pd.DataFrame(interaction_matrix, index=col_labels, columns=row_labels)\n",
    "df.to_csv('interactions.csv')\n"
   ]
  },
  {
   "cell_type": "markdown",
   "id": "82d44b43",
   "metadata": {},
   "source": [
    "## Ill Condition Showcase\n",
    "\n",
    "Below we print the condition number for each independent RV"
   ]
  },
  {
   "cell_type": "code",
   "execution_count": 5,
   "id": "9583495e",
   "metadata": {},
   "outputs": [
    {
     "name": "stdout",
     "output_type": "stream",
     "text": [
      "Parameter RH(%) condition number: 59.184956958437525\n",
      "Parameter T(degC) condition number: 28.142512126691678\n",
      "Parameter LightVOC(ADU) condition number: 11000.490705931266\n",
      "Parameter HeavyVOC(ADC) condition number: 2433.147821091631\n",
      "Parameter Ozone(ADU) condition number: 13016.21585877661\n",
      "Parameter CO(ADU) condition number: 19833.588411993394\n",
      "Parameter CO2(ADU) condition number: 880.8290582906966\n",
      "Parameter Elevation(ft) condition number: 209797.42882930793\n",
      "Parameter Distance From Road (miles) condition number: 5.150658368712972\n"
     ]
    }
   ],
   "source": [
    "for i in range(9):\n",
    "    temp_data = np.array(data_set[parameters[i]])\n",
    "    matrix_A = [[np.float64(1.0), temp_data[k]] for k in range(len(temp_data))]\n",
    "    cond = np.linalg.cond(matrix_A)\n",
    "    print(f\"Parameter {parameters[i]} condition number: {cond}\")"
   ]
  },
  {
   "cell_type": "markdown",
   "id": "8d84e4a7",
   "metadata": {},
   "source": [
    "## Speed Difference in LU vs QR\n",
    "\n",
    "- `interaction_constant_LU(A,i,j)`: calculate our interaction constant and update matrix `M` with LU decomposition instead of QR\n",
    "    - Specifically, we solve system $\\mathbf{A}^T\\overrightarrow{\\mathbf{b}} = \\mathbf{A}^T\\mathbf{A}\\overrightarrow{\\mathbf{x}}$\n",
    "    \n",
    "- This is not used in the report since numpy solve is less optimal than our QR code"
   ]
  },
  {
   "cell_type": "code",
   "execution_count": 6,
   "id": "f8383520",
   "metadata": {},
   "outputs": [],
   "source": [
    "def interaction_constant_LU(i,j):\n",
    "    x = np.array(data_set[parameters[i]])\n",
    "    y = np.array(data_set[parameters[j]])\n",
    "    b = y\n",
    "    A = [[np.float64(1.0), x[k]] for k in range(len(x))]\n",
    "    A_t = np.linalg.matrix_transpose(A)\n",
    "    r_vector = np.matmul(A_t, b)\n",
    "    coeff = np.matmul(A_t, A)\n",
    "    return np.linalg.solve(coeff,r_vector)"
   ]
  },
  {
   "cell_type": "code",
   "execution_count": 7,
   "id": "43614560",
   "metadata": {},
   "outputs": [
    {
     "name": "stdout",
     "output_type": "stream",
     "text": [
      "Average Time Increase for QR: -0.0002757604050248119\n",
      "Standard Deviation: 3.503966704854704e-06\n"
     ]
    }
   ],
   "source": [
    "qr_times = []\n",
    "lu_times = []\n",
    "\n",
    "for i in range(1000):\n",
    "    random = np.identity(7)\n",
    "    t1qr = perf_counter()\n",
    "    sol1 = interaction_constant(random, 5, 1)\n",
    "    t2qr = perf_counter()\n",
    "\n",
    "    t1lu = perf_counter()\n",
    "    sol2 = interaction_constant_LU(5, 1)\n",
    "    t2lu = perf_counter()\n",
    "    \n",
    "    qr_times.append(t2qr - t1qr)\n",
    "    lu_times.append(t2lu - t1lu)\n",
    "\n",
    "qr_times = np.array(qr_times)\n",
    "lu_times = np.array(lu_times)\n",
    "\n",
    "time_diff = qr_times - lu_times\n",
    "avg_cost = sum(time_diff)/len(time_diff)\n",
    "stdev1 = np.std(qr_times)\n",
    "stdev2 = np.std(lu_times)\n",
    "stdev = np.sqrt((stdev1**2 + stdev2**2)/len(time_diff))\n",
    "print(f\"Average Time Increase for QR: {avg_cost}\")\n",
    "print(f\"Standard Deviation: {stdev}\")"
   ]
  }
 ],
 "metadata": {
  "kernelspec": {
   "display_name": "Python 3",
   "language": "python",
   "name": "python3"
  },
  "language_info": {
   "codemirror_mode": {
    "name": "ipython",
    "version": 3
   },
   "file_extension": ".py",
   "mimetype": "text/x-python",
   "name": "python",
   "nbconvert_exporter": "python",
   "pygments_lexer": "ipython3",
   "version": "3.13.3"
  }
 },
 "nbformat": 4,
 "nbformat_minor": 5
}
