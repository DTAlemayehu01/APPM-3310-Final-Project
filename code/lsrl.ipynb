{
 "cells": [
  {
   "cell_type": "markdown",
   "id": "7a357dac",
   "metadata": {},
   "source": [
    "# Import statements + data import\n",
    "- Numpy for linear algebra\n",
    "- Pandas for dataset manips"
   ]
  },
  {
   "cell_type": "code",
   "execution_count": 1,
   "id": "5ae80aee",
   "metadata": {},
   "outputs": [],
   "source": [
    "import numpy as np\n",
    "import pandas as pd"
   ]
  },
  {
   "cell_type": "code",
   "execution_count": 2,
   "id": "aa63a214",
   "metadata": {},
   "outputs": [],
   "source": [
    "filename = \"Matrix_Data_Export.csv\"\n",
    "data_set = pd.read_csv(filename)"
   ]
  },
  {
   "cell_type": "markdown",
   "id": "8ad4d7d5",
   "metadata": {},
   "source": [
    "## Matrix + Process Setup:\n",
    "\n",
    "- `symmmetric_interaction_matrix(A,i,j)`: calculate our interaction constant and update matrix `M`\n",
    "\n",
    "    - Inputs:\n",
    "        - `M`: Matrix for which to update interaction constant at location `(i,j)`\n",
    "        - `i,j`: Integers that denote our parameters to calculate the interaction for; `i` is independent, `j` is dependent\n",
    "    - Outputs:\n",
    "        - Returns our LSRL vector $[\\beta_0, \\beta_1]^T$ where $y = \\beta_0 + \\beta_1 x$\n",
    "        - non-pure function (side effects on `M`)\n",
    "    - Notes:\n",
    "\n",
    "#### Parameters of interest -> Pandas Labels:\n",
    "\n",
    "1. Relative Humidity ->  RH(%)\n",
    "2. Temperature -> T(degC)\n",
    "3. Light VOCs -> LightVOC(ADU)\n",
    "4. Heavy VOCs -> HeavyVOC(ADU) \n",
    "5. OZONE -> Ozone(ADU)\n",
    "6. CO -> CO(ADU)\n",
    "7. CO_2 -> CO2(ADU)\n",
    "8. Elevation -> Elevation(ft)\n",
    "9. Distance from nearest highway -> Distance From Road (miles)"
   ]
  },
  {
   "cell_type": "code",
   "execution_count": 3,
   "id": "5bb09fbf",
   "metadata": {},
   "outputs": [],
   "source": [
    "parameters = ['RH(%)', 'T(degC)', 'LightVOC(ADU)', 'HeavyVOC(ADC)', 'Ozone(ADU)', 'CO(ADU)', 'CO2(ADU)', 'Elevation(ft)', 'Distance From Road (miles)']\n",
    "\n",
    "def symmetric_interaction_constant(M, i,j):\n",
    "    x = np.array(data_set[parameters[i]])\n",
    "    y = np.array(data_set[parameters[j]])\n",
    "    b = y\n",
    "    A = [[np.float64(1.0), x[k]] for k in range(len(x))]\n",
    "    Q, R = np.linalg.qr(A)\n",
    "    Q_t = np.linalg.matrix_transpose(Q)\n",
    "    R_inv = np.linalg.inv(R)\n",
    "    x = np.matmul(np.matmul(R_inv, Q_t), b)\n",
    "    M[i][j] = x[1]\n",
    "    # M[j][i] = x[1]\n",
    "    return x"
   ]
  },
  {
   "cell_type": "markdown",
   "id": "53ee459b",
   "metadata": {},
   "source": [
    "## Interaction Matrix"
   ]
  },
  {
   "cell_type": "code",
   "execution_count": 4,
   "id": "69f10dbb",
   "metadata": {},
   "outputs": [],
   "source": [
    "interaction_matrix = np.identity(9) \n",
    "\n",
    "for i in range(9):\n",
    "    for j in range(9):\n",
    "        symmetric_interaction_constant(interaction_matrix, i,j)\n",
    "            \n",
    "df = pd.DataFrame(interaction_matrix, index=parameters, columns=parameters)\n",
    "df.to_csv('interactions.csv')\n"
   ]
  }
 ],
 "metadata": {
  "kernelspec": {
   "display_name": "Python 3",
   "language": "python",
   "name": "python3"
  },
  "language_info": {
   "codemirror_mode": {
    "name": "ipython",
    "version": 3
   },
   "file_extension": ".py",
   "mimetype": "text/x-python",
   "name": "python",
   "nbconvert_exporter": "python",
   "pygments_lexer": "ipython3",
   "version": "3.13.3"
  }
 },
 "nbformat": 4,
 "nbformat_minor": 5
}
